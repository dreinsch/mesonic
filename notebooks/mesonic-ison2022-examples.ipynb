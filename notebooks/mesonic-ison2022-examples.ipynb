{
 "cells": [
  {
   "cell_type": "markdown",
   "metadata": {},
   "source": [
    "# Supplementary Material for XXXXXX & XXXXXXX:  Interacting with Sonifications: The mesonic framework for interactive Auditory Data Science, ISon 2022"
   ]
  },
  {
   "cell_type": "markdown",
   "metadata": {},
   "source": [
    "first version, for review..."
   ]
  },
  {
   "cell_type": "markdown",
   "metadata": {},
   "source": [
    "For Audification we use a Buffer and the realtime mode of the Context\n",
    "For all examples let's use the following includes to keep the code below compact:"
   ]
  },
  {
   "cell_type": "code",
   "execution_count": 1,
   "metadata": {},
   "outputs": [],
   "source": [
    "import mesonic\n",
    "import numpy as np\n",
    "from pya import *\n",
    "import matplotlib.pyplot as plt\n",
    "from sc3nb import linlin, midicps, cpsmidi\n",
    "import sc3nb as scn"
   ]
  },
  {
   "cell_type": "code",
   "execution_count": 2,
   "metadata": {},
   "outputs": [
    {
     "data": {
      "application/javascript": [
       "if (typeof Jupyter !== 'undefined') {\n",
       "                        Jupyter.keyboard_manager.command_shortcuts.add_shortcut(\n",
       "                        'cmd-.', {\n",
       "                        help : 'Free all nodes on SC server',\n",
       "                        help_index : 'zz',\n",
       "                        handler : function (event) {\n",
       "                            IPython.notebook.kernel.execute(\n",
       "                                \"import sc3nb; sc3nb.SC.get_default().server.free_all(root=True)\"\n",
       "                            )\n",
       "                            return true;}\n",
       "                        });\n",
       "                    }"
      ],
      "text/plain": [
       "<IPython.core.display.Javascript object>"
      ]
     },
     "metadata": {},
     "output_type": "display_data"
    },
    {
     "name": "stdout",
     "output_type": "stream",
     "text": [
      "Starting sclang process... Done.\n",
      "Registering OSC /return callback in sclang... Done.\n",
      "Loading default sc3nb SynthDefs... Done.\n",
      "Booting SuperCollider Server... Done.\n"
     ]
    },
    {
     "data": {
      "text/plain": [
       "0.05"
      ]
     },
     "execution_count": 2,
     "metadata": {},
     "output_type": "execute_result"
    }
   ],
   "source": [
    "context = mesonic.create_context()\n",
    "context.enable_realtime();\n",
    "context.processor.latency = 0.05\n",
    "context.processor.latency"
   ]
  },
  {
   "cell_type": "markdown",
   "metadata": {},
   "source": [
    "## Basic Audification"
   ]
  },
  {
   "cell_type": "markdown",
   "metadata": {},
   "source": [
    "In this example we will use the EEG data from the [Supplementary material for \"sc3nb: a Python-SuperCollider Interface for Auditory Data Science\"](https://doi.org/10.4119/unibi/2956379)"
   ]
  },
  {
   "cell_type": "code",
   "execution_count": 3,
   "metadata": {},
   "outputs": [],
   "source": [
    "data = np.loadtxt(\"./files/epileptic-eeg.csv\", delimiter=\",\")"
   ]
  },
  {
   "cell_type": "markdown",
   "metadata": {},
   "source": [
    "We can simply create a stereo Buffer using this data"
   ]
  },
  {
   "cell_type": "code",
   "execution_count": 4,
   "metadata": {},
   "outputs": [
    {
     "data": {
      "text/plain": [
       "Buffer(2 x 25642 @ 256Hz = 50.082s)"
      ]
     },
     "execution_count": 4,
     "metadata": {},
     "output_type": "execute_result"
    }
   ],
   "source": [
    "buf = context.buffers.from_data(data[:,[0,1]], sr=256)\n",
    "buf"
   ]
  },
  {
   "cell_type": "markdown",
   "metadata": {},
   "source": [
    "And create a default Synth to play it back"
   ]
  },
  {
   "cell_type": "code",
   "execution_count": 5,
   "metadata": {},
   "outputs": [],
   "source": [
    "bsyn = context.synths.from_buffer(buf)"
   ]
  },
  {
   "cell_type": "code",
   "execution_count": 6,
   "metadata": {},
   "outputs": [
    {
     "data": {
      "text/plain": [
       "Synth(sc3nb_playbuf_128, {'out': 0.0, 'bufnum': 128.0, 'rate': 1.0, 'loop': 0.0, 'pan': 0.0, 'amp': 0.3})"
      ]
     },
     "execution_count": 6,
     "metadata": {},
     "output_type": "execute_result"
    }
   ],
   "source": [
    "bsyn # to see the synth's controls"
   ]
  },
  {
   "cell_type": "markdown",
   "metadata": {},
   "source": [
    "let's audify the data in a loop"
   ]
  },
  {
   "cell_type": "code",
   "execution_count": 7,
   "metadata": {},
   "outputs": [],
   "source": [
    "bsyn.start(rate=20, amp=0.1, loop=1)"
   ]
  },
  {
   "cell_type": "markdown",
   "metadata": {},
   "source": [
    "modify parameters interactively as needed"
   ]
  },
  {
   "cell_type": "code",
   "execution_count": 8,
   "metadata": {},
   "outputs": [],
   "source": [
    "bsyn.rate = 5\n",
    "bsyn.amp = 1"
   ]
  },
  {
   "cell_type": "code",
   "execution_count": 9,
   "metadata": {},
   "outputs": [],
   "source": [
    "bsyn.stop()"
   ]
  },
  {
   "cell_type": "markdown",
   "metadata": {},
   "source": [
    "## Interactive Audification"
   ]
  },
  {
   "cell_type": "code",
   "execution_count": 10,
   "metadata": {},
   "outputs": [
    {
     "data": {
      "text/plain": [
       "Buffer(1 x 12821 @ 256Hz = 50.082s)"
      ]
     },
     "execution_count": 10,
     "metadata": {},
     "output_type": "execute_result"
    }
   ],
   "source": [
    "# load data to buffer\n",
    "data = np.loadtxt(\"./files/epileptic-eeg.csv\", delimiter=\",\")\n",
    "buf = context.buffers.from_data(data[:,5], sr=256)\n",
    "buf"
   ]
  },
  {
   "cell_type": "markdown",
   "metadata": {},
   "source": [
    "And create a default Synth to play it back"
   ]
  },
  {
   "cell_type": "code",
   "execution_count": 11,
   "metadata": {},
   "outputs": [],
   "source": [
    "bsyn = context.synths.from_buffer(buf)"
   ]
  },
  {
   "cell_type": "code",
   "execution_count": 12,
   "metadata": {},
   "outputs": [],
   "source": [
    "bsyn.start(rate=25)"
   ]
  },
  {
   "cell_type": "markdown",
   "metadata": {},
   "source": [
    "Create a synth using TGrains for interactive scrubbing of the buffer"
   ]
  },
  {
   "cell_type": "code",
   "execution_count": 13,
   "metadata": {},
   "outputs": [],
   "source": [
    "context.synths.buffer_synthdefs[\"tgrains\"]= r\"\"\"\n",
    "{ | bufnum={{BUFNUM}}, amp=0.3, rate=10, trate=5, pos=0 |\n",
    "    var dur, cpos, sig;\n",
    "    dur = 4 / trate;\n",
    "    cpos = pos * BufDur.kr(bufnum);\n",
    "    sig = TGrains.ar(2, Impulse.ar(trate), bufnum, rate, cpos, dur, 0, 0.5, 2);\n",
    "    Out.ar(0, sig * amp);\n",
    "}\"\"\""
   ]
  },
  {
   "cell_type": "code",
   "execution_count": 14,
   "metadata": {},
   "outputs": [
    {
     "data": {
      "text/plain": [
       "Synth(sc3nb_tgrains_129, {'bufnum': 129.0, 'amp': 0.3, 'rate': 10.0, 'trate': 5.0, 'pos': 0.0})"
      ]
     },
     "execution_count": 14,
     "metadata": {},
     "output_type": "execute_result"
    }
   ],
   "source": [
    "tgsyn = context.synths.from_buffer(buf, synth_name=\"tgrains\")\n",
    "tgsyn"
   ]
  },
  {
   "cell_type": "code",
   "execution_count": 15,
   "metadata": {},
   "outputs": [],
   "source": [
    "tgsyn.start()"
   ]
  },
  {
   "cell_type": "code",
   "execution_count": 16,
   "metadata": {},
   "outputs": [],
   "source": [
    "# tgaud_synth.stop()"
   ]
  },
  {
   "cell_type": "code",
   "execution_count": 17,
   "metadata": {},
   "outputs": [
    {
     "name": "stdout",
     "output_type": "stream",
     "text": [
      "-> a Stethoscope\n"
     ]
    }
   ],
   "source": [
    "%sc s.makeGui; s.scope"
   ]
  },
  {
   "cell_type": "code",
   "execution_count": 17,
   "metadata": {},
   "outputs": [],
   "source": [
    "# set custom values\n",
    "tgsyn.rate = 40\n",
    "tgsyn.trate = 30\n",
    "tgsyn.amp = 0.2\n",
    "tgsyn.pos = 0"
   ]
  },
  {
   "cell_type": "code",
   "execution_count": 18,
   "metadata": {},
   "outputs": [
    {
     "data": {
      "application/vnd.jupyter.widget-view+json": {
       "model_id": "a8c9a50775874338ad27a65b46226ccd",
       "version_major": 2,
       "version_minor": 0
      },
      "text/plain": [
       "interactive(children=(IntSlider(value=20, description='trate', min=1), FloatSlider(value=50.0, description='ra…"
      ]
     },
     "metadata": {},
     "output_type": "display_data"
    }
   ],
   "source": [
    "def explore_tgrain(trate=20, rate=50, pos=0, amp=0.5):\n",
    "    tgsyn.rate = rate\n",
    "    tgsyn.trate = trate\n",
    "    tgsyn.pos = pos\n",
    "    tgsyn.amp = amp\n",
    "    \n",
    "from ipywidgets import interactive, widgets\n",
    "interactive(explore_tgrain, trate=(1,100,1), rate=(0.2,250,0.05), \n",
    "            pos=(0,1,0.001), amp=(0,1,0.01))"
   ]
  },
  {
   "cell_type": "code",
   "execution_count": 19,
   "metadata": {},
   "outputs": [],
   "source": [
    "tgsyn.stop()"
   ]
  },
  {
   "cell_type": "markdown",
   "metadata": {},
   "source": [
    "Now let's couple interaction to a data plot"
   ]
  },
  {
   "cell_type": "code",
   "execution_count": 20,
   "metadata": {},
   "outputs": [],
   "source": [
    "%matplotlib qt"
   ]
  },
  {
   "cell_type": "code",
   "execution_count": 23,
   "metadata": {},
   "outputs": [],
   "source": [
    "from matplotlib.backend_bases import MouseButton\n",
    "fig, ax = plt.subplots(figsize=(8,2))\n",
    "asig = Asig(data[:,5], sr=256).plot()\n",
    "\n",
    "tgsyn.start()\n",
    "\n",
    "def on_click(event):\n",
    "    if event.button is MouseButton.RIGHT:\n",
    "        print('disconnecting callback')\n",
    "        plt.disconnect(binding_id)\n",
    "\n",
    "def on_move(event):\n",
    "    # get the x and y pixel coords\n",
    "    x, y = event.x, event.y\n",
    "    if event.inaxes and event.button is MouseButton.LEFT:\n",
    "        tgsyn.rate =  20 if event.ydata > 0 else 50\n",
    "        tgsyn.pos = linlin(event.xdata, 0, 50, 0, 1)\n",
    "    \n",
    "cid = fig.canvas.mpl_connect('button_press_event', on_click)\n",
    "binding_id = plt.connect('motion_notify_event', on_move)"
   ]
  },
  {
   "cell_type": "markdown",
   "metadata": {},
   "source": [
    "Scrub left-right with pressed left Mouse button to explore the data.\n",
    "- if you do it in the lower part of the plot, it will use rate 50\n",
    "- if you do it in the upper part of the plot, if will use rate 20"
   ]
  },
  {
   "cell_type": "code",
   "execution_count": 24,
   "metadata": {},
   "outputs": [],
   "source": [
    "tgsyn.stop()"
   ]
  },
  {
   "cell_type": "markdown",
   "metadata": {},
   "source": [
    "## Minimal Parameter Mapping Sonification"
   ]
  },
  {
   "cell_type": "code",
   "execution_count": 25,
   "metadata": {},
   "outputs": [
    {
     "name": "stdout",
     "output_type": "stream",
     "text": [
      "Synth(s1, {'freq': 400.0, 'amp': 0.3, 'num': 4.0, 'pan': 0.0, 'dur': 0.4, 'att': 0.01, 'curve': -2.0}) \n",
      " Synth(s2, {'freq': 400.0, 'amp': 0.3, 'num': 4.0, 'pan': 0.0, 'lg': 0.1, 'gate': 1.0})\n"
     ]
    }
   ],
   "source": [
    "s1i = context.synths.create(\"s1\", mutable=False)\n",
    "s2m = context.synths.create(\"s2\", track=1)\n",
    "print(s1i, \"\\n\", s2m)"
   ]
  },
  {
   "cell_type": "markdown",
   "metadata": {},
   "source": [
    "create a playback"
   ]
  },
  {
   "cell_type": "code",
   "execution_count": 26,
   "metadata": {},
   "outputs": [],
   "source": [
    "pb = context.create_playback()"
   ]
  },
  {
   "cell_type": "code",
   "execution_count": 27,
   "metadata": {},
   "outputs": [],
   "source": [
    "%matplotlib inline"
   ]
  },
  {
   "cell_type": "code",
   "execution_count": 28,
   "metadata": {},
   "outputs": [
    {
     "data": {
      "image/png": "[encoded data removed]",
      "text/plain": [
       "<Figure size 432x288 with 1 Axes>"
      ]
     },
     "metadata": {
      "needs_background": "light"
     },
     "output_type": "display_data"
    }
   ],
   "source": [
    "context.disable_realtime();\n",
    "context.reset()\n",
    "\n",
    "# parameters and plotting\n",
    "duration = 5\n",
    "nrows = 256\n",
    "sel = slice(2100, 2356)\n",
    "Asig(data[2000:2200,[2,5,12]], sr=256, cn=[\"2\",\"5\",\"12\"]).plot(offset=2)\n",
    "\n",
    "# start synth at time 0\n",
    "with context.at(0): s2m.start()\n",
    "\n",
    "# loop through data\n",
    "for i, r in enumerate(data[2100:2100+nrows]):\n",
    "    onset = linlin(i, 0, nrows, 0.02, duration)\n",
    "    with context.at(onset): # context manager used to provide time \n",
    "        s2m.freq = linlin(r[5], -1, 1, 100, 400)        \n",
    "        s2m.num = linlin(r[2], -1, 1, 1, 10)\n",
    "        s2m.pan = linlin(r[12], -1, 1, -1, 1)  \n",
    "        s2m.amp = 0.2\n",
    "\n",
    "# stop synth at time duration\n",
    "with context.at(duration): s2m.stop()\n",
    "\n",
    "# playback sonification\n",
    "pb.start(rate=1)"
   ]
  },
  {
   "cell_type": "markdown",
   "metadata": {},
   "source": [
    "interact with playback while track plays, e.g. by changing playback rate"
   ]
  },
  {
   "cell_type": "code",
   "execution_count": 29,
   "metadata": {},
   "outputs": [],
   "source": [
    "pb.rate = 0.5"
   ]
  },
  {
   "cell_type": "markdown",
   "metadata": {},
   "source": [
    "### Discrete PMSon"
   ]
  },
  {
   "cell_type": "code",
   "execution_count": 30,
   "metadata": {},
   "outputs": [
    {
     "name": "stderr",
     "output_type": "stream",
     "text": [
      "/Applications/anaconda/anaconda3/lib/python3.8/site-packages/matplotlib/collections.py:981: RuntimeWarning: invalid value encountered in sqrt\n",
      "  scale = np.sqrt(self._sizes) * dpi / 72.0 * self._factor\n"
     ]
    },
    {
     "data": {
      "image/png": "[encoded data removed]",
      "text/plain": [
       "<Figure size 432x288 with 1 Axes>"
      ]
     },
     "metadata": {
      "needs_background": "light"
     },
     "output_type": "display_data"
    }
   ],
   "source": [
    "context.disable_realtime();\n",
    "context.reset()\n",
    "duration = 3\n",
    "sel = slice(2100, 2456)\n",
    "plt.scatter(data[sel, 2], data[sel, 5], s=50*data[sel, 12]+25)\n",
    "for r in data[sel]:\n",
    "    onset = linlin(r[2], -1, 1, 0, duration)\n",
    "    with context.at(onset): # context manager is used to provide time \n",
    "        s1i.start(\n",
    "            freq = midicps(linlin(r[5] , -1, 1,   50, 100)),        \n",
    "            dur =          linlin(r[12], -1, 1, 0.01, 0.4) ,\n",
    "            pan =          linlin(r[3] , -1, 1,   -1,   1) ,  \n",
    "            amp = 0.05\n",
    "        )\n",
    "pb.start(rate=1)"
   ]
  },
  {
   "cell_type": "code",
   "execution_count": 31,
   "metadata": {},
   "outputs": [],
   "source": [
    "pb.start(rate=1)"
   ]
  },
  {
   "cell_type": "code",
   "execution_count": 32,
   "metadata": {},
   "outputs": [
    {
     "data": {
      "text/plain": [
       "Playback(time=1.637618064880371, rate=-1)"
      ]
     },
     "execution_count": 32,
     "metadata": {},
     "output_type": "execute_result"
    }
   ],
   "source": [
    "pb.rate = -1 # execute this line towards the end to hear it being played backwards\n",
    "pb"
   ]
  },
  {
   "cell_type": "code",
   "execution_count": 33,
   "metadata": {},
   "outputs": [],
   "source": [
    "pb.stop()"
   ]
  },
  {
   "cell_type": "markdown",
   "metadata": {},
   "source": [
    "## Interactive Continuous PMSon"
   ]
  },
  {
   "cell_type": "code",
   "execution_count": 34,
   "metadata": {},
   "outputs": [],
   "source": [
    "%matplotlib qt"
   ]
  },
  {
   "cell_type": "code",
   "execution_count": 35,
   "metadata": {},
   "outputs": [],
   "source": [
    "context.enable_realtime();"
   ]
  },
  {
   "cell_type": "code",
   "execution_count": 36,
   "metadata": {},
   "outputs": [
    {
     "data": {
      "text/plain": [
       "'dynklang'"
      ]
     },
     "execution_count": 36,
     "metadata": {},
     "output_type": "execute_result"
    }
   ],
   "source": [
    "scn.SynthDef(\"dynklang\", r\"\"\"\n",
    "{ |out=0, f0=100, amp=0.1, freqs=#[1,2,3,4,5,6,7,8,9,10], amps=#[0,0,0,0,0,0,0,0,0,0]|\n",
    "    Out.ar(out, amp * DynKlang.ar(`[freqs, amps, 0!10], freqscale: f0)!2);\n",
    "}\"\"\").add()"
   ]
  },
  {
   "cell_type": "code",
   "execution_count": 37,
   "metadata": {},
   "outputs": [
    {
     "data": {
      "text/plain": [
       "Synth(dynklang, {'out': 0.0, 'f0': 100.0, 'amp': 0.1, 'freqs': [1.0, 2.0, 3.0, 4.0, 5.0, 6.0, 7.0, 8.0, 9.0, 10.0], 'amps': [0.0, 0.0, 0.0, 0.0, 0.0, 0.0, 0.0, 0.0, 0.0, 0.0]})"
      ]
     },
     "execution_count": 37,
     "metadata": {},
     "output_type": "execute_result"
    }
   ],
   "source": [
    "sdk = context.synths.create(\"dynklang\")\n",
    "sdk"
   ]
  },
  {
   "cell_type": "code",
   "execution_count": 43,
   "metadata": {},
   "outputs": [
    {
     "data": {
      "application/vnd.jupyter.widget-view+json": {
       "model_id": "4a48a44adb774046b99943dddcd13e99",
       "version_major": 2,
       "version_minor": 0
      },
      "text/plain": [
       "interactive(children=(FloatSlider(value=2.0, description='s', max=5.0, min=0.5), Output()), _dom_classes=('wid…"
      ]
     },
     "metadata": {},
     "output_type": "display_data"
    }
   ],
   "source": [
    "# parameters and plotting\n",
    "dim = 6 # dimension\n",
    "ofs = 2 # offset for plotting \n",
    "sigma = 3  # bandwidth for amplitude filtering\n",
    "sr = 256\n",
    "dd = data[2000:2500,0:dim] # selected data for plot and sonification\n",
    "Asig(dd, sr=sr).plot(offset=ofs)\n",
    "\n",
    "# start synth at time 0\n",
    "sdk.start(f0=180, amp=0, freqs=[1,2,3,4,5,6,7,8,9,10], amps=[1,1,1,1,1,1,1,1,1,1])\n",
    "\n",
    "from matplotlib.backend_bases import MouseButton\n",
    "def on_click(event):\n",
    "    if event.button is MouseButton.LEFT:\n",
    "        sdk.amp = 0.2\n",
    "\n",
    "def on_release(event):\n",
    "    if event.button is MouseButton.LEFT:\n",
    "        sdk.amp = 0\n",
    "        \n",
    "def on_move(event):\n",
    "    if event.inaxes and event.button is MouseButton.LEFT:\n",
    "        vec = dd[int(event.xdata * sr), :dim]\n",
    "        ampsvec = np.exp(-((event.ydata - np.arange(0, ofs*dim, ofs))/sigma)**2)\n",
    "        sdk.amps = list(ampsvec)\n",
    "        sdk.f0 = 1\n",
    "        sdk.freqs = list(midicps( np.arange(dim)*10+40 + linlin(vec, -1, 1, -5, 5)))\n",
    "\n",
    "cid1 = plt.gcf().canvas.mpl_connect('button_press_event', on_click)\n",
    "cid2 = plt.connect('motion_notify_event', on_move)\n",
    "cid3 = plt.gcf().canvas.mpl_connect('button_release_event', on_release)\n",
    "\n",
    "def set_sigma(s=2): \n",
    "    global sigma\n",
    "    sigma = s\n",
    "from ipywidgets import interactive\n",
    "interactive(set_sigma, s=(0.5,5,0.1))"
   ]
  },
  {
   "cell_type": "code",
   "execution_count": 44,
   "metadata": {},
   "outputs": [],
   "source": [
    "sdk.stop()"
   ]
  }
 ],
 "metadata": {
  "hide_input": false,
  "kernelspec": {
   "display_name": "Python 3",
   "language": "python",
   "name": "python3"
  },
  "language_info": {
   "codemirror_mode": {
    "name": "ipython",
    "version": 3
   },
   "file_extension": ".py",
   "mimetype": "text/x-python",
   "name": "python",
   "nbconvert_exporter": "python",
   "pygments_lexer": "ipython3",
   "version": "3.8.5"
  },
  "toc": {
   "base_numbering": 1,
   "nav_menu": {},
   "number_sections": true,
   "sideBar": true,
   "skip_h1_title": false,
   "title_cell": "Table of Contents",
   "title_sidebar": "Contents",
   "toc_cell": false,
   "toc_position": {},
   "toc_section_display": true,
   "toc_window_display": false
  }
 },
 "nbformat": 4,
 "nbformat_minor": 5
}
