{
 "cells": [
  {
   "cell_type": "markdown",
   "id": "a3cc5d63",
   "metadata": {},
   "source": [
    "# Timeline.plot testing\n"
   ]
  },
  {
   "cell_type": "code",
   "execution_count": null,
   "id": "643272df",
   "metadata": {},
   "outputs": [],
   "source": [
    "import mesonic"
   ]
  },
  {
   "cell_type": "code",
   "execution_count": null,
   "id": "c8dddc7b",
   "metadata": {},
   "outputs": [],
   "source": [
    "context = mesonic.create_context()"
   ]
  },
  {
   "cell_type": "code",
   "execution_count": null,
   "id": "60d83f06",
   "metadata": {},
   "outputs": [],
   "source": [
    "context.managers"
   ]
  },
  {
   "cell_type": "code",
   "execution_count": null,
   "id": "523af966",
   "metadata": {},
   "outputs": [],
   "source": [
    "context.timeline"
   ]
  },
  {
   "cell_type": "code",
   "execution_count": null,
   "id": "ed72d1f6",
   "metadata": {},
   "outputs": [],
   "source": [
    "s1m = context.synths.create(\"s1\")\n",
    "s1i = context.synths.create(\"s1\", mutable=False)"
   ]
  },
  {
   "cell_type": "code",
   "execution_count": null,
   "id": "c8c53390",
   "metadata": {},
   "outputs": [],
   "source": [
    "s2 = context.synths.create(\"s2\", track=1)"
   ]
  },
  {
   "cell_type": "code",
   "execution_count": null,
   "id": "d17f0484",
   "metadata": {},
   "outputs": [],
   "source": [
    "context.synths"
   ]
  },
  {
   "cell_type": "code",
   "execution_count": null,
   "id": "8cac3172",
   "metadata": {},
   "outputs": [],
   "source": [
    "context.reset() \n",
    "# it is a good practice to reset the Context when using it in cells\n",
    "# to avoid the Timeline getting accidently cluttered by repeated executions\n",
    "\n",
    "# Example with continuous Synth s2\n",
    "# creating a raising sound\n",
    "# using the context.at context manager\n",
    "\n",
    "# start the s2 Synth at 0.3\n",
    "with context.at(0.3):\n",
    "    s2.start(freq=300)\n",
    "\n",
    "# then raise the frequency\n",
    "for t in range(4,10):\n",
    "    with context.at(t/10):  \n",
    "        s2.freq = 100 * t\n",
    "\n",
    "# stop the s2 Synth or it will keep playing.\n",
    "with context.at((t+1)/10): \n",
    "    s2.stop()\n",
    "\n",
    "# Example with mutable discrete Synth s2 \n",
    "# spawn one sound and change panning\n",
    "\n",
    "# set the time using the context.time property\n",
    "context.time = 1.25\n",
    "# start the Synth\n",
    "s1m.start(dur=1, pan=1)  # parameters can be provided by keyword\n",
    "    \n",
    "# set the panning of the mutable Synth\n",
    "for i in range(1,4):\n",
    "    context.time= 1.25 + 0.25 * i\n",
    "    s1m.pan *= -1  # it is also possible to use /= , += , -=    \n",
    "\n",
    "# setting the time to None will make it undefined again\n",
    "# using the context.at context manager is preferred as\n",
    "# the time is only set inside the with statemate and\n",
    "# chaged back to None automatically\n",
    "context.time = None \n",
    "\n",
    "# Example with immutable discrete Synth s1\n",
    "# spawning multiple overlapping sounds\n",
    "# is only possible with an immutable Synth \n",
    "for i in range(5):\n",
    "    with context.at(3+i/4):\n",
    "        s1i.start(dur=1.1, freq=100 * (i+1))"
   ]
  },
  {
   "cell_type": "code",
   "execution_count": null,
   "id": "fa9607c8",
   "metadata": {},
   "outputs": [],
   "source": [
    "context.timeline"
   ]
  },
  {
   "cell_type": "code",
   "execution_count": null,
   "id": "26d1c8e0",
   "metadata": {},
   "outputs": [],
   "source": [
    "context.timeline.plot()"
   ]
  },
  {
   "cell_type": "code",
   "execution_count": null,
   "id": "8b821ebc-3a48-45cb-b7b9-9e4323c3b189",
   "metadata": {},
   "outputs": [],
   "source": [
    "s1m.freq.bounds = (300,1000)\n",
    "s1i.freq.bounds = (100,1000)\n",
    "s2.freq.bounds = (300,1000)"
   ]
  },
  {
   "cell_type": "code",
   "execution_count": null,
   "id": "c1860b8e-7545-481d-b90d-15659aef5198",
   "metadata": {},
   "outputs": [],
   "source": [
    "s1m.pan.bounds, s1i.pan.bounds, s2.pan.bounds"
   ]
  },
  {
   "cell_type": "code",
   "execution_count": null,
   "id": "d10cca98-07f7-450d-9f53-e839c07e8a1e",
   "metadata": {},
   "outputs": [],
   "source": [
    "context.timeline.plot()"
   ]
  },
  {
   "cell_type": "code",
   "execution_count": null,
   "id": "f1644995-ce87-4a9c-a179-50caef5db452",
   "metadata": {},
   "outputs": [],
   "source": [
    "for s in [s1m, s1i, s2]:\n",
    "    s1m.pan.bounds = -1,1"
   ]
  },
  {
   "cell_type": "code",
   "execution_count": null,
   "id": "6800f6ba-876f-4d29-9998-f4dfc2d53ea7",
   "metadata": {},
   "outputs": [],
   "source": [
    "context.timeline.plot(\"pan\")"
   ]
  },
  {
   "cell_type": "code",
   "execution_count": null,
   "id": "93cbee9e-0b95-4ce6-9cea-6e3014c3f2ca",
   "metadata": {},
   "outputs": [],
   "source": [
    "# close the context.\n",
    "context.close()\n",
    "# if all contexts are closed the backend should also exit."
   ]
  }
 ],
 "metadata": {
  "kernelspec": {
   "display_name": "Python 3 (ipykernel)",
   "language": "python",
   "name": "python3"
  },
  "language_info": {
   "codemirror_mode": {
    "name": "ipython",
    "version": 3
   },
   "file_extension": ".py",
   "mimetype": "text/x-python",
   "name": "python",
   "nbconvert_exporter": "python",
   "pygments_lexer": "ipython3",
   "version": "3.10.11"
  }
 },
 "nbformat": 4,
 "nbformat_minor": 5
}
