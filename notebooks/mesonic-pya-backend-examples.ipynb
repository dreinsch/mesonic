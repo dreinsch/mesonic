{
 "cells": [
  {
   "attachments": {},
   "cell_type": "markdown",
   "metadata": {},
   "source": [
    "## Pya Backend Examples\n",
    "by TH, 2023-05-27"
   ]
  },
  {
   "cell_type": "code",
   "execution_count": null,
   "metadata": {},
   "outputs": [],
   "source": [
    "%load_ext autoreload\n",
    "%autoreload 2"
   ]
  },
  {
   "cell_type": "code",
   "execution_count": null,
   "metadata": {},
   "outputs": [],
   "source": [
    "import time\n",
    "import matplotlib.pyplot as plt\n",
    "plt.rcParams[\"figure.figsize\"] = (8,2)\n",
    "%matplotlib widget\n",
    "import mesonic\n",
    "import pya \n",
    "from pya import Asig, Aspec, Astft"
   ]
  },
  {
   "cell_type": "code",
   "execution_count": null,
   "metadata": {},
   "outputs": [],
   "source": [
    "pya.device_info();"
   ]
  },
  {
   "cell_type": "code",
   "execution_count": null,
   "metadata": {},
   "outputs": [],
   "source": [
    "# context.backend.quit() # pya.Aserver.default  # after quit() this will be closed"
   ]
  },
  {
   "cell_type": "code",
   "execution_count": null,
   "metadata": {},
   "outputs": [],
   "source": [
    "from mesonic.backend.backend_pya import PyaSynthDef\n",
    "context = mesonic.create_context(\"pya\", device=4)\n",
    "context.backend.aserver # Aserver.default"
   ]
  },
  {
   "cell_type": "code",
   "execution_count": null,
   "metadata": {},
   "outputs": [],
   "source": [
    "context.managers"
   ]
  },
  {
   "cell_type": "code",
   "execution_count": null,
   "metadata": {},
   "outputs": [],
   "source": [
    "context.timeline"
   ]
  },
  {
   "cell_type": "code",
   "execution_count": null,
   "metadata": {},
   "outputs": [],
   "source": [
    "context.stop()"
   ]
  },
  {
   "cell_type": "code",
   "execution_count": null,
   "metadata": {},
   "outputs": [],
   "source": [
    "context.reset()  # keep_canvas=True"
   ]
  },
  {
   "cell_type": "code",
   "execution_count": null,
   "metadata": {},
   "outputs": [],
   "source": [
    "context.synths"
   ]
  },
  {
   "attachments": {},
   "cell_type": "markdown",
   "metadata": {},
   "source": [
    "pya synths are just functions to create an asig\n",
    "- spawning in realtime is .play(onset=absolute_time) \n",
    "- spawning in nrt is acanvas.x[{time_from_start:None}] += synfn(parameters)\n",
    "- pya_synths are immutable by default: the whole signal is computed 'one-shot'\n",
    "- context from other synths or state at time is impossible to take on\n",
    "- a stop message to a synths (at time t_stop) could only be faked by slicing the signal before adding to canvas"
   ]
  },
  {
   "cell_type": "code",
   "execution_count": null,
   "metadata": {},
   "outputs": [],
   "source": [
    "def pya_syn_s1(out=0, freq=400, dur=0.3, amp=0.3):\n",
    "    \"\"\"pya sine tone synth\"\"\"\n",
    "    return pya.Ugen().sine(freq=freq, amp=amp, dur=dur).fade_out(dur)\n",
    "\n",
    "PyaSynthDef(\"s1\", pya_syn_s1).add()\n",
    "\n",
    "\n",
    "def pya_syn_s2(freq=440, amp=1.0, dur=0.1, width=1.0):\n",
    "    \"\"\"pya sawtooth tone synth\"\"\"\n",
    "    return pya.Ugen().sawtooth(freq=freq, amp=amp, dur=dur, width=width)\n",
    "\n",
    "PyaSynthDef(\"s2\", pya_syn_s2).add()"
   ]
  },
  {
   "cell_type": "code",
   "execution_count": null,
   "metadata": {},
   "outputs": [],
   "source": [
    "PyaSynthDef.synth_defs['s1'](freq=1000, amp=0.1).play()\n",
    "PyaSynthDef.synth_defs['s2'](freq=500, amp=0.1).play(onset=0.5)"
   ]
  },
  {
   "cell_type": "code",
   "execution_count": null,
   "metadata": {},
   "outputs": [],
   "source": [
    "PyaSynthDef.synth_defs"
   ]
  },
  {
   "cell_type": "code",
   "execution_count": null,
   "metadata": {},
   "outputs": [],
   "source": [
    "context.timeline"
   ]
  },
  {
   "cell_type": "code",
   "execution_count": null,
   "metadata": {},
   "outputs": [],
   "source": [
    "s1 = context.synths.create(\"s1\", mutable=False)\n",
    "context.synths"
   ]
  },
  {
   "cell_type": "code",
   "execution_count": null,
   "metadata": {},
   "outputs": [],
   "source": [
    "context.timeline.plot()"
   ]
  },
  {
   "cell_type": "code",
   "execution_count": null,
   "metadata": {},
   "outputs": [],
   "source": [
    "# create some test tones\n",
    "context.reset()\n",
    "for i, t in enumerate([0, 0.2, 0.4, 0.8]):\n",
    "    with context.at(t):\n",
    "        s1.start(freq=800+40*i, amp=0.1)\n",
    "context.timeline.plot()"
   ]
  },
  {
   "cell_type": "code",
   "execution_count": null,
   "metadata": {},
   "outputs": [],
   "source": [
    "# and/or create a discrete parameter mapping sonification\n",
    "context.reset()\n",
    "import numpy as np\n",
    "for i, t in enumerate(np.random.rand(100)):\n",
    "    with context.at(t*2):\n",
    "        s1.start(freq=int(1000+np.random.random(1)[0]*800), dur=0.2, amp=0.05)\n",
    "context.timeline.plot()"
   ]
  },
  {
   "cell_type": "code",
   "execution_count": null,
   "metadata": {},
   "outputs": [],
   "source": [
    "# render to a fresh pya canvas\n",
    "context._backend.clear_acanvas() # clear canvas\n",
    "context.render() # render (file name irrelevant as rendered in memory"
   ]
  },
  {
   "cell_type": "code",
   "execution_count": null,
   "metadata": {},
   "outputs": [],
   "source": [
    "\n",
    "acanvas = context.backend.acanvas\n",
    "plt.figure(); acanvas.plot(lw=0.5).play(onset=0.3)"
   ]
  },
  {
   "cell_type": "code",
   "execution_count": null,
   "metadata": {},
   "outputs": [],
   "source": [
    "context.render()\n",
    "ac = context.backend.acanvas.play()\n",
    "ac"
   ]
  },
  {
   "attachments": {},
   "cell_type": "markdown",
   "metadata": {},
   "source": [
    "## realtime pya synthesis"
   ]
  },
  {
   "cell_type": "code",
   "execution_count": null,
   "metadata": {},
   "outputs": [],
   "source": [
    "context.stop()\n",
    "context.reset()"
   ]
  },
  {
   "cell_type": "code",
   "execution_count": null,
   "metadata": {},
   "outputs": [],
   "source": [
    "context.timeline"
   ]
  },
  {
   "cell_type": "code",
   "execution_count": null,
   "metadata": {},
   "outputs": [],
   "source": [
    "pb = context.enable_realtime()\n",
    "pb"
   ]
  },
  {
   "cell_type": "code",
   "execution_count": null,
   "metadata": {},
   "outputs": [],
   "source": [
    "# find howto reduce latency via context.playback"
   ]
  },
  {
   "cell_type": "code",
   "execution_count": null,
   "metadata": {},
   "outputs": [],
   "source": [
    "s1.start(freq=890, amp=0.3)"
   ]
  },
  {
   "cell_type": "code",
   "execution_count": null,
   "metadata": {},
   "outputs": [],
   "source": [
    "# the context manager now yields the current time\n",
    "# of the realtime Playback from the Context\n",
    "with context.now() as timepoint:\n",
    "    s1.start(dur=0.2, freq=440)\n",
    "    print(f\"Started s1 at {timepoint}\")"
   ]
  },
  {
   "cell_type": "code",
   "execution_count": null,
   "metadata": {},
   "outputs": [],
   "source": [
    "context.reset()\n",
    "for i, t in enumerate([0, 0.2, 0.4, 0.8]):\n",
    "    with context.at(t):\n",
    "        s1.start(freq=800+40*i, amp=0.1)\n",
    "context.timeline.plot()"
   ]
  },
  {
   "cell_type": "code",
   "execution_count": null,
   "metadata": {},
   "outputs": [],
   "source": [
    "context.reset()\n",
    "context.timeline"
   ]
  },
  {
   "cell_type": "code",
   "execution_count": null,
   "metadata": {},
   "outputs": [],
   "source": [
    "# and/or create a discrete parameter mapping sonification\n",
    "context.reset()\n",
    "import numpy as np\n",
    "for i, t in enumerate(np.random.rand(100)):\n",
    "    with context.at(t*2):\n",
    "        s1.start(freq=int(1000+np.random.random(1)[0]*800), dur=0.2, amp=0.05)\n",
    "context.timeline.plot()"
   ]
  },
  {
   "cell_type": "code",
   "execution_count": null,
   "metadata": {},
   "outputs": [],
   "source": [
    "from sc3nb import midicps"
   ]
  },
  {
   "cell_type": "code",
   "execution_count": null,
   "metadata": {},
   "outputs": [],
   "source": [
    "context.reset()\n",
    "pb.time = 0 \n",
    "ofs = 0 # np.random.random()\n",
    "print(ofs)\n",
    "for i, t in enumerate(np.linspace(0, 0.5, 17, endpoint=True)):\n",
    "    with context.at(t+ofs):\n",
    "        s1.start(freq=midicps(90+i), amp=0.1)\n",
    "context.timeline.plot()"
   ]
  },
  {
   "cell_type": "code",
   "execution_count": null,
   "metadata": {},
   "outputs": [],
   "source": [
    "PyaSynthDef.get_description(\"s1\")"
   ]
  },
  {
   "cell_type": "code",
   "execution_count": null,
   "metadata": {},
   "outputs": [],
   "source": [
    "plt.figure()\n",
    "PyaSynthDef.synth_defs['s1'](0, 480, 0.3, 1).plot().play(onset=0.1)"
   ]
  },
  {
   "cell_type": "code",
   "execution_count": null,
   "metadata": {},
   "outputs": [],
   "source": [
    "pb = context.disable_realtime()"
   ]
  },
  {
   "attachments": {},
   "cell_type": "markdown",
   "metadata": {},
   "source": [
    "## Buffer"
   ]
  },
  {
   "attachments": {},
   "cell_type": "markdown",
   "metadata": {},
   "source": [
    "- BackendPya doesn't need buffers as anything is memory-mapped anyway.\n",
    "- But for compatability with other backends, we implement Buffers as such also\n",
    "- By definition, a Buffer is simply storing data in the Backend. \n",
    "- In case of BackendPya, the buffers are stored in the BackendPya attribute buffers as dictionary with \n",
    "  - keys being the bufnum, and \n",
    "  - values being the Asig that is the buffer storage."
   ]
  },
  {
   "attachments": {},
   "cell_type": "markdown",
   "metadata": {},
   "source": [
    "Let's create a Buffer from a file."
   ]
  },
  {
   "cell_type": "code",
   "execution_count": null,
   "metadata": {},
   "outputs": [],
   "source": [
    "buf = context.buffers.from_file(\"files/clack.wav\")\n",
    "buf2 = context.buffers.from_file(\"files/da.wav\")\n"
   ]
  },
  {
   "cell_type": "code",
   "execution_count": null,
   "metadata": {},
   "outputs": [],
   "source": [
    "buf, buf2"
   ]
  },
  {
   "cell_type": "code",
   "execution_count": null,
   "metadata": {},
   "outputs": [],
   "source": [
    "# the buffer is also stored in _buffers[buf] in the BufferManager\n",
    "plt.figure(); context.buffers._buffers[buf].plot().stereo().play(onset=0.2, rate=0.1)"
   ]
  },
  {
   "attachments": {},
   "cell_type": "markdown",
   "metadata": {},
   "source": [
    "Using this Buffer we can create a Synth that will playback this Buffer."
   ]
  },
  {
   "cell_type": "code",
   "execution_count": null,
   "metadata": {},
   "outputs": [],
   "source": [
    "context.synths"
   ]
  },
  {
   "cell_type": "code",
   "execution_count": null,
   "metadata": {},
   "outputs": [],
   "source": [
    "buf_synth = context.synths.from_buffer(buf)\n",
    "buf_synth"
   ]
  },
  {
   "cell_type": "code",
   "execution_count": null,
   "metadata": {},
   "outputs": [],
   "source": [
    "PyaSynthDef.synth_defs"
   ]
  },
  {
   "cell_type": "code",
   "execution_count": null,
   "metadata": {},
   "outputs": [],
   "source": [
    "PyaSynthDef.synth_descs"
   ]
  },
  {
   "cell_type": "code",
   "execution_count": null,
   "metadata": {},
   "outputs": [],
   "source": [
    "context.buffers._buffers[buf]"
   ]
  },
  {
   "cell_type": "code",
   "execution_count": null,
   "metadata": {},
   "outputs": [],
   "source": [
    "PyaSynthDef.synth_defs['pya_playbuf_files/clack.wav_arrayindexed'](out=0, rate=1, amp=0.5).play(onset=0.2)"
   ]
  },
  {
   "cell_type": "code",
   "execution_count": null,
   "metadata": {},
   "outputs": [],
   "source": [
    "buf"
   ]
  },
  {
   "cell_type": "code",
   "execution_count": null,
   "metadata": {},
   "outputs": [],
   "source": [
    "# the pyabuffer is just an asig and can be found here:\n",
    "context.buffers._buffers[buf]"
   ]
  },
  {
   "cell_type": "code",
   "execution_count": null,
   "metadata": {},
   "outputs": [],
   "source": [
    "# create buffer synths in render\n",
    "context.reset()\n",
    "context.disable_realtime()\n",
    "context._backend.clear_acanvas()\n",
    "\n",
    "buf_synth = context.synths.from_buffer(buf)\n",
    "\n",
    "t = 0.2\n",
    "for k in range(100):\n",
    "    t += 3*np.random.random() * 0.05\n",
    "    with context.at(t):\n",
    "        buf_synth.start(rate=0.5*np.random.random()+0.5, amp=0.2)\n",
    "\n",
    "context.render(\"\")\n",
    "ac = context.backend.acanvas\n",
    "ac.play()"
   ]
  },
  {
   "attachments": {},
   "cell_type": "markdown",
   "metadata": {},
   "source": [
    "And lets use the realtime mode so we can simply start 100 Buffer Synths"
   ]
  },
  {
   "cell_type": "code",
   "execution_count": null,
   "metadata": {},
   "outputs": [],
   "source": [
    "context.reset()\n",
    "context.enable_realtime()\n",
    "context._backend.clear_acanvas()\n",
    "\n",
    "buf_synth = context.synths.from_buffer(buf)\n",
    "\n",
    "t = 0.1\n",
    "for k in range(100):\n",
    "    t += np.random.random() * 0.05\n",
    "    with context.at(t):\n",
    "        buf_synth.start(rate=0.5*np.random.random()+0.5, amp=0.2)"
   ]
  },
  {
   "cell_type": "code",
   "execution_count": null,
   "metadata": {},
   "outputs": [],
   "source": [
    "context.time = 0"
   ]
  },
  {
   "attachments": {},
   "cell_type": "markdown",
   "metadata": {},
   "source": [
    "Notice that the resulting Synth is a mutable Synth."
   ]
  },
  {
   "cell_type": "code",
   "execution_count": null,
   "metadata": {},
   "outputs": [],
   "source": [
    "buf_synth.mutable"
   ]
  },
  {
   "cell_type": "code",
   "execution_count": null,
   "metadata": {},
   "outputs": [],
   "source": [
    "context.stop()"
   ]
  }
 ],
 "metadata": {
  "kernelspec": {
   "display_name": "py310",
   "language": "python",
   "name": "python3"
  },
  "language_info": {
   "codemirror_mode": {
    "name": "ipython",
    "version": 3
   },
   "file_extension": ".py",
   "mimetype": "text/x-python",
   "name": "python",
   "nbconvert_exporter": "python",
   "pygments_lexer": "ipython3",
   "version": "3.10.9"
  }
 },
 "nbformat": 4,
 "nbformat_minor": 2
}
